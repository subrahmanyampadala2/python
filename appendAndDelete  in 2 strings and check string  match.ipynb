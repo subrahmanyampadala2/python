{
 "cells": [
  {
   "cell_type": "code",
   "execution_count": null,
   "id": "2db2d448",
   "metadata": {},
   "outputs": [],
   "source": []
  },
  {
   "cell_type": "code",
   "execution_count": 4,
   "id": "5104e8d7",
   "metadata": {},
   "outputs": [
    {
     "name": "stdout",
     "output_type": "stream",
     "text": [
      "ashley\n",
      "ash\n",
      "7\n",
      "Yes\n"
     ]
    }
   ],
   "source": [
    "def appendAndDelete(s, t, k):\n",
    "    common_length = 0\n",
    "    total_moves_required=0\n",
    "\n",
    "    for i in range(min(len(s), len(t))):\n",
    "        if s[i] == t[i]:\n",
    "            common_length += 1\n",
    "        else:\n",
    "            break\n",
    "\n",
    "    total_moves_required = len(s) + len(t) - 2 * common_length\n",
    "\n",
    "    if total_moves_required <= k and (k - total_moves_required) % 2  == 0 or k >= len(s) + len(t):\n",
    "        return \"Yes\"\n",
    "    else:\n",
    "        return \"No\"\n",
    "\n",
    "if __name__ == '__main__':\n",
    "\n",
    "    s = input()\n",
    "\n",
    "    t = input()\n",
    "\n",
    "    k = int(input().strip())\n",
    "\n",
    "    result = appendAndDelete(s, t, k)\n",
    "print(result)"
   ]
  },
  {
   "cell_type": "code",
   "execution_count": null,
   "id": "e97e85ae",
   "metadata": {},
   "outputs": [],
   "source": []
  }
 ],
 "metadata": {
  "kernelspec": {
   "display_name": "Python 3",
   "language": "python",
   "name": "python3"
  },
  "language_info": {
   "codemirror_mode": {
    "name": "ipython",
    "version": 3
   },
   "file_extension": ".py",
   "mimetype": "text/x-python",
   "name": "python",
   "nbconvert_exporter": "python",
   "pygments_lexer": "ipython3",
   "version": "3.8.8"
  }
 },
 "nbformat": 4,
 "nbformat_minor": 5
}
